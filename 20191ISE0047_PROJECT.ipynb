{
  "nbformat": 4,
  "nbformat_minor": 0,
  "metadata": {
    "colab": {
      "name": "20191ISE0047_PROJECT.ipynb",
      "provenance": []
    },
    "kernelspec": {
      "name": "python3",
      "display_name": "Python 3"
    },
    "language_info": {
      "name": "python"
    }
  },
  "cells": [
    {
      "cell_type": "markdown",
      "metadata": {
        "id": "eShPUJXkfp5N"
      },
      "source": [
        "***In this regression task we will predict the percentage of marks that a student is expected to score based upon the number of hours they studied.***"
      ]
    },
    {
      "cell_type": "code",
      "metadata": {
        "colab": {
          "base_uri": "https://localhost:8080/"
        },
        "id": "lf_3UTCcfxh0",
        "outputId": "8d16d29b-c500-4077-e52a-6d2bec970525"
      },
      "source": [
        "# Importing necessary libraries\n",
        "import pandas as pd\n",
        "import matplotlib.pyplot as plt\n",
        "import numpy as np\n",
        "from sklearn import linear_model\n",
        "\n",
        "# Reading the data to a dataframe\n",
        "\n",
        "data=pd.read_csv(\"/content/scorehours.csv\")\n",
        "print(data)\n",
        "print(data.shape)\n",
        "print(data.describe())\n",
        "\n",
        "\n"
      ],
      "execution_count": 13,
      "outputs": [
        {
          "output_type": "stream",
          "name": "stdout",
          "text": [
            "    Hours  Scores\n",
            "0     2.5      21\n",
            "1     5.1      47\n",
            "2     3.2      27\n",
            "3     8.5      75\n",
            "4     3.5      30\n",
            "5     1.5      20\n",
            "6     9.2      88\n",
            "7     5.5      60\n",
            "8     8.3      81\n",
            "9     2.7      25\n",
            "10    7.7      85\n",
            "11    5.9      62\n",
            "12    4.5      41\n",
            "13    3.3      42\n",
            "14    1.1      17\n",
            "15    8.9      95\n",
            "16    2.5      30\n",
            "17    1.9      24\n",
            "18    6.1      67\n",
            "19    7.4      69\n",
            "20    2.7      30\n",
            "21    4.8      54\n",
            "22    3.8      35\n",
            "23    6.9      76\n",
            "24    7.8      86\n",
            "(25, 2)\n",
            "           Hours     Scores\n",
            "count  25.000000  25.000000\n",
            "mean    5.012000  51.480000\n",
            "std     2.525094  25.286887\n",
            "min     1.100000  17.000000\n",
            "25%     2.700000  30.000000\n",
            "50%     4.800000  47.000000\n",
            "75%     7.400000  75.000000\n",
            "max     9.200000  95.000000\n"
          ]
        }
      ]
    },
    {
      "cell_type": "code",
      "metadata": {
        "colab": {
          "base_uri": "https://localhost:8080/",
          "height": 295
        },
        "id": "IIV9zBMSmuOH",
        "outputId": "69a317dc-51e0-47a7-db8f-684becd72021"
      },
      "source": [
        "# Since the dataset is quiet small so visualizing the data will give a better picture of the correlation between variables.\n",
        "data.plot(x=\"Hours\",y=\"Scores\",style='o')\n",
        "plt.title(\"Hours vs Percentage\")\n",
        "plt.xlabel(\"Hours Studied\")\n",
        "plt.ylabel(\"Scores Obtained\")\n",
        "plt.show()\n"
      ],
      "execution_count": null,
      "outputs": [
        {
          "output_type": "display_data",
          "data": {
            "image/png": "[encoded data removed]",
            "text/plain": [
              "<Figure size 432x288 with 1 Axes>"
            ]
          },
          "metadata": {
            "needs_background": "light"
          }
        }
      ]
    },
    {
      "cell_type": "code",
      "metadata": {
        "colab": {
          "base_uri": "https://localhost:8080/",
          "height": 265
        },
        "id": "2uu4GiLLm8Du",
        "outputId": "db2195ab-bc52-4bb1-c4f8-703e4732db42"
      },
      "source": [
        "#From the scatter plot it can be observed that there is a positive correlation between the No. of hours studied and the scores obtained by the student\n",
        "data.plot(kind='box')\n",
        "plt.show()\n"
      ],
      "execution_count": null,
      "outputs": [
        {
          "output_type": "display_data",
          "data": {
            "image/png": "[encoded data removed]",
            "text/plain": [
              "<Figure size 432x288 with 1 Axes>"
            ]
          },
          "metadata": {
            "needs_background": "light"
          }
        }
      ]
    },
    {
      "cell_type": "code",
      "metadata": {
        "id": "0g9bfkjNnCle"
      },
      "source": [
        "#Preparing data for model\n",
        "#Feature and target variables\n",
        "X = data.Hours\n",
        "y = data.Scores\n",
        "\n",
        "#Splitting data into train and test set\n",
        "\n",
        "from sklearn.model_selection import train_test_split\n",
        "X_train, X_test, y_train, y_test = train_test_split(X, y, test_size = 0.2)\n",
        "X_train = np.array(X_train).reshape(-1,1)\n",
        "X_test = np.array(X_test).reshape(-1,1)\n",
        "y_train = np.array(y_train).reshape(-1,1)\n",
        "y_test = np.array(y_test).reshape(-1,1)\n"
      ],
      "execution_count": null,
      "outputs": []
    },
    {
      "cell_type": "code",
      "metadata": {
        "colab": {
          "base_uri": "https://localhost:8080/"
        },
        "id": "hVUgUyeYnag8",
        "outputId": "bf477f5f-3a47-444e-ff1b-cfaee01f3f32"
      },
      "source": [
        "#Model training\n",
        "#Model training\n",
        "\n",
        "from sklearn.linear_model import LinearRegression\n",
        "lr = LinearRegression()\n",
        "lr.fit(X_train, y_train)"
      ],
      "execution_count": null,
      "outputs": [
        {
          "output_type": "execute_result",
          "data": {
            "text/plain": [
              "LinearRegression(copy_X=True, fit_intercept=True, n_jobs=None, normalize=False)"
            ]
          },
          "metadata": {},
          "execution_count": 8
        }
      ]
    },
    {
      "cell_type": "code",
      "metadata": {
        "colab": {
          "base_uri": "https://localhost:8080/"
        },
        "id": "hwL4AUtMnor1",
        "outputId": "b30b0aed-5c46-4ed5-bfc7-9e20e3504197"
      },
      "source": [
        "#Accuracy\n",
        "lr.score(X_test, y_test)"
      ],
      "execution_count": null,
      "outputs": [
        {
          "output_type": "execute_result",
          "data": {
            "text/plain": [
              "0.5433393745398147"
            ]
          },
          "metadata": {},
          "execution_count": 9
        }
      ]
    },
    {
      "cell_type": "code",
      "metadata": {
        "colab": {
          "base_uri": "https://localhost:8080/",
          "height": 296
        },
        "id": "du4ndyQvnrdA",
        "outputId": "a659f36f-1247-4550-e8ed-8343aa875493"
      },
      "source": [
        "#Model Evaluation\n",
        "#Plotting results\n",
        "\n",
        "plt.scatter(data.Hours, data.Scores, marker = '+', color = 'blue')\n",
        "plt.plot(data.Hours, lr.predict(data[['Hours']]), color = 'red')  #plotting the line of best fit\n",
        "plt.xlabel('No. of Hours')\n",
        "plt.ylabel('Scores')"
      ],
      "execution_count": null,
      "outputs": [
        {
          "output_type": "execute_result",
          "data": {
            "text/plain": [
              "Text(0, 0.5, 'Scores')"
            ]
          },
          "metadata": {},
          "execution_count": 10
        },
        {
          "output_type": "display_data",
          "data": {
            "image/png": "[encoded data removed]",
            "text/plain": [
              "<Figure size 432x288 with 1 Axes>"
            ]
          },
          "metadata": {
            "needs_background": "light"
          }
        }
      ]
    },
    {
      "cell_type": "code",
      "metadata": {
        "colab": {
          "base_uri": "https://localhost:8080/"
        },
        "id": "Dfaz5Z9tn1ii",
        "outputId": "7dbcc2e5-edc1-4a83-aa32-8df5d65a196d"
      },
      "source": [
        "#Model evluation\n",
        "\n",
        "from sklearn import metrics\n",
        "\n",
        "predictions = lr.predict(X_test)\n",
        "print('MAE:', metrics.mean_absolute_error(y_test, predictions))\n",
        "print('MSE:', metrics.mean_squared_error(y_test, predictions))\n",
        "print('RMSE:', np.sqrt(metrics.mean_squared_error(y_test, predictions)))"
      ],
      "execution_count": null,
      "outputs": [
        {
          "output_type": "stream",
          "name": "stdout",
          "text": [
            "MAE: 4.749864193212683\n",
            "MSE: 28.67828727889964\n",
            "RMSE: 5.355211226356962\n"
          ]
        }
      ]
    },
    {
      "cell_type": "code",
      "metadata": {
        "colab": {
          "base_uri": "https://localhost:8080/"
        },
        "id": "bjT58N7AoHsy",
        "outputId": "6a89c57b-335c-485d-aeb9-b339cf84dbb4"
      },
      "source": [
        "#Making predictions\n",
        "#Making predictions using trained model\n",
        "\n",
        "inp = float(input(\"Enter hours studied: \"))\n",
        "y_pred = lr.predict([[inp]])\n",
        "s = str(y_pred)\n",
        "print(\"Predicted Score: {}\" .format(s[2:-2]))"
      ],
      "execution_count": null,
      "outputs": [
        {
          "output_type": "stream",
          "name": "stdout",
          "text": [
            "Enter hours studied: 7.5\n",
            "Predicted Score: 75.82653436\n"
          ]
        }
      ]
    }
  ]
}